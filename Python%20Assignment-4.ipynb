{
 "cells": [
  {
   "cell_type": "code",
   "execution_count": 8,
   "metadata": {},
   "outputs": [
    {
     "name": "stdout",
     "output_type": "stream",
     "text": [
      "Enter first side of triangle: 27\n",
      "Enter second side of triangle: 28\n",
      "Enter third side of triangle: 29\n",
      "Area of the trangle is 338.61482542853906\n"
     ]
    },
    {
     "data": {
      "text/plain": [
       "<__main__.findArea at 0x10c59b2b400>"
      ]
     },
     "execution_count": 8,
     "metadata": {},
     "output_type": "execute_result"
    }
   ],
   "source": [
    "# Python Program(with class concepts) to find the area of the triangle using the below formula.\n",
    "# area = (s*(s-a)*(s-b)*(s-c)) ** 0.5\n",
    "class getSides:   # Define a parent class to take the sides of the triangle \n",
    "    def __init__(self): \n",
    "        self.a = int(input(\"Enter first side of triangle: \"))\n",
    "        self.b = int(input(\"Enter second side of triangle: \"))\n",
    "        self.c = int(input(\"Enter third side of triangle: \"))\n",
    "                    \n",
    "class findArea(getSides): # Define a sub class that extend the parent class to calculate the area of triangle\n",
    "    def __init__(self):   \n",
    "        super().__init__() \n",
    "        s = (self.a + self.b + self.c)/2\n",
    "        area = (s*(s-self.a)*(s-self.b)*(s-self.c))**0.5\n",
    "        print('Area of the trangle is',area)\n",
    "                \n",
    "findArea()"
   ]
  },
  {
   "cell_type": "code",
   "execution_count": 9,
   "metadata": {},
   "outputs": [
    {
     "name": "stdout",
     "output_type": "stream",
     "text": [
      "enter the string you want to compareIs annaconda installed successfully in your system\n",
      "The word longer than 4 charcters are ['annaconda', 'installed', 'successfully', 'system']\n"
     ]
    }
   ],
   "source": [
    "# function filter_long_words() that takes a list of words and an integer n and returns\n",
    "# the list of words that are longer than n.\n",
    "def filter_long_words(str1,n):\n",
    "  longest_word=[]\n",
    "  for i in str1:\n",
    "    if len(i) > n:\n",
    "      longest_word.append(i)\n",
    "  return longest_word\n",
    "\n",
    "word=input('enter the string you want to compare')\n",
    "word_compare=word.split()\n",
    "n=4\n",
    "print('The word longer than',n,'charcters are', filter_long_words(word_compare, n))"
   ]
  },
  {
   "cell_type": "code",
   "execution_count": 11,
   "metadata": {},
   "outputs": [
    {
     "name": "stdout",
     "output_type": "stream",
     "text": [
      "Length of the  list  ['ab', 'cde', 'erty']  is  [2, 3, 4]\n"
     ]
    }
   ],
   "source": [
    "# function that maps list of words into a list of integers\n",
    "# representing the lengths of the corresponding words.\n",
    "def Printlen(lst2):\n",
    "  lst3=[]\n",
    "  for i in lst2:\n",
    "    lst3.append(len(i))\n",
    "  return(lst3)\n",
    "\n",
    "lst1=['ab','cde','erty']\n",
    "print('Length of the  list ', lst1, ' is ',Printlen(lst1))"
   ]
  },
  {
   "cell_type": "code",
   "execution_count": 12,
   "metadata": {},
   "outputs": [
    {
     "name": "stdout",
     "output_type": "stream",
     "text": [
      "String is vowel or not  e :- True\n"
     ]
    }
   ],
   "source": [
    "# function which takes a character (i.e. a string of length 1) and returns True if\n",
    "# it is a vowel, False otherwise.\n",
    "def IsStrVowel(str1):\n",
    "  str_vowels=('a','e','i','o','u')\n",
    "  if str1.lower() in str_vowels:\n",
    "    return 'True'\n",
    "  else:\n",
    "    return 'False'\n",
    "\n",
    "str_assign='e'\n",
    "print('String is vowel or not ',str_assign , ':-', IsStrVowel(str_assign))"
   ]
  }
 ],
 "metadata": {
  "kernelspec": {
   "display_name": "Python 3",
   "language": "python",
   "name": "python3"
  },
  "language_info": {
   "codemirror_mode": {
    "name": "ipython",
    "version": 3
   },
   "file_extension": ".py",
   "mimetype": "text/x-python",
   "name": "python",
   "nbconvert_exporter": "python",
   "pygments_lexer": "ipython3",
   "version": "3.6.5"
  }
 },
 "nbformat": 4,
 "nbformat_minor": 2
}
